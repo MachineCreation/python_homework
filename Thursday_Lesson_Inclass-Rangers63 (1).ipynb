{
 "cells": [
  {
   "cell_type": "markdown",
   "metadata": {},
   "source": [
    "# Object-Oriented-Programming (OOP)"
   ]
  },
  {
   "cell_type": "markdown",
   "metadata": {},
   "source": [
    "## Tasks Today:\n",
    "\n",
    "   \n",
    "\n",
    "1) <b>Creating a Class (Initializing/Declaring)</b> <br>\n",
    "2) <b>Using a Class (Instantiating)</b> <br>\n",
    " &nbsp;&nbsp;&nbsp;&nbsp; a) Creating One Instance <br>\n",
    " &nbsp;&nbsp;&nbsp;&nbsp; b) Creating Multiple Instances <br>\n",
    " &nbsp;&nbsp;&nbsp;&nbsp; c) In-Class Exercise #1 - Create a Class 'Car' and instantiate three different makes of cars <br>\n",
    "3) <b>The \\__init\\__() Method</b> <br>\n",
    " &nbsp;&nbsp;&nbsp;&nbsp; a) The 'self' Attribute <br>\n",
    "4) <b>Class Attributes</b> <br>\n",
    " &nbsp;&nbsp;&nbsp;&nbsp; a) Initializing Attributes <br>\n",
    " &nbsp;&nbsp;&nbsp;&nbsp; b) Setting an Attribute Outside of the \\__init\\__() Method <br>\n",
    " &nbsp;&nbsp;&nbsp;&nbsp; c) Setting Defaults for Attributes <br>\n",
    " &nbsp;&nbsp;&nbsp;&nbsp; d) Accessing Class Attributes <br>\n",
    " &nbsp;&nbsp;&nbsp;&nbsp; e) Changing Class Attributes <br>\n",
    " &nbsp;&nbsp;&nbsp;&nbsp; f) In-Class Exercise #2 - Add a color and wheels attribute to your 'Car' class <br>\n",
    "5) <b>Class Methods</b> <br>\n",
    " &nbsp;&nbsp;&nbsp;&nbsp; a) Creating <br>\n",
    " &nbsp;&nbsp;&nbsp;&nbsp; b) Calling <br>\n",
    " &nbsp;&nbsp;&nbsp;&nbsp; c) Modifying an Attribute's Value Through a Method <br>\n",
    " &nbsp;&nbsp;&nbsp;&nbsp; d) Incrementing an Attribute's Value Through a Method <br>\n",
    " &nbsp;&nbsp;&nbsp;&nbsp; e) In-Class Exercise #3 - Add a method that prints the cars color and wheel number, then call them <br>\n",
    "6) <b>Inheritance</b> <br>\n",
    " &nbsp;&nbsp;&nbsp;&nbsp; a) Syntax for Inheriting from a Parent Class <br>\n",
    " &nbsp;&nbsp;&nbsp;&nbsp; b) The \\__init\\__() Method for a Child Class (super()) <br>\n",
    " &nbsp;&nbsp;&nbsp;&nbsp; c) Defining Attributes and Methods for the Child Class <br>\n",
    " &nbsp;&nbsp;&nbsp;&nbsp; d) Method Overriding <br>\n",
    " &nbsp;&nbsp;&nbsp;&nbsp; e) In-Class Exercise #4 - Create a class 'Ford' that inherits from 'Car' class and initialize it as a Blue Ford Explorer with 4 wheels using the super() method <br>\n",
    "7) <b>Classes as Attributes</b> <br>\n",
    "8) <b>Exercises</b> <br>\n",
    " &nbsp;&nbsp;&nbsp;&nbsp; a) Exercise #1 - Turn the shopping cart program from yesterday into an object-oriented program <br>"
   ]
  },
  {
   "cell_type": "markdown",
   "metadata": {},
   "source": [
    "## Creating a Class (Initializing/Declaring)\n",
    "<p>When creating a class, function, or even a variable you are initializing that object. Initializing and Declaring occur at the same time in Python, whereas in lower level languages you have to declare an object before initializing it. This is the first step in the process of using a class.</p>"
   ]
  },
  {
   "cell_type": "code",
   "execution_count": 1,
   "metadata": {},
   "outputs": [],
   "source": [
    "class Car():\n",
    "    wheels = 4\n",
    "    color = 'blue'"
   ]
  },
  {
   "cell_type": "markdown",
   "metadata": {},
   "source": [
    "## Using a Class (Instantiating)\n",
    "<p>The process of creating a class is called <i>Instantiating</i>. Each time you create a variable of that type of class, it is referred to as an <i>Instance</i> of that class. This is the second step in the process of using a class.</p>"
   ]
  },
  {
   "cell_type": "markdown",
   "metadata": {},
   "source": [
    "##### Creating One Instance"
   ]
  },
  {
   "cell_type": "code",
   "execution_count": 2,
   "metadata": {},
   "outputs": [
    {
     "name": "stdout",
     "output_type": "stream",
     "text": [
      "blue\n"
     ]
    }
   ],
   "source": [
    "ford = Car()\n",
    "print(ford.color)"
   ]
  },
  {
   "cell_type": "markdown",
   "metadata": {},
   "source": [
    "##### Creating Multiple Instances"
   ]
  },
  {
   "cell_type": "code",
   "execution_count": 3,
   "metadata": {},
   "outputs": [
    {
     "name": "stdout",
     "output_type": "stream",
     "text": [
      "blue\n"
     ]
    }
   ],
   "source": [
    "chevy = Car()\n",
    "honda = Car()\n",
    "toyota = Car()\n",
    "\n",
    "print(chevy.color)"
   ]
  },
  {
   "cell_type": "markdown",
   "metadata": {},
   "source": [
    "##### In-Class Exercise #1 - Create a Class 'Car' and Instantiate three different makes of cars"
   ]
  },
  {
   "cell_type": "code",
   "execution_count": 4,
   "metadata": {},
   "outputs": [
    {
     "name": "stdout",
     "output_type": "stream",
     "text": [
      "rockets\n",
      "mini gun\n",
      "no-blinky\n"
     ]
    }
   ],
   "source": [
    "class Car():\n",
    "    weapon_slot1 = 'rockets'\n",
    "    weapon_slot2 = 'mini gun'\n",
    "    weapon_slot3 = 'flame thrower'\n",
    "    blinkers_front = 'blinky'\n",
    "    blinkers_rear = 'no-blinky'\n",
    "    \n",
    "doom_buggy = Car()\n",
    "apoc_eclipse = Car()\n",
    "dun_dun_dun_da_da_datson = Car()\n",
    "\n",
    "print(doom_buggy.weapon_slot1)\n",
    "print(apoc_eclipse.weapon_slot2)\n",
    "print(dun_dun_dun_da_da_datson.blinkers_rear)"
   ]
  },
  {
   "cell_type": "markdown",
   "metadata": {},
   "source": [
    "## The \\__init\\__() Method <br>\n",
    "<p>This method is used in almost every created class, and called only once upon the creation of the class instance. This method will initialize all variables needed for the object.</p>"
   ]
  },
  {
   "cell_type": "code",
   "execution_count": 5,
   "metadata": {},
   "outputs": [
    {
     "name": "stdout",
     "output_type": "stream",
     "text": [
      "black\n"
     ]
    }
   ],
   "source": [
    "# funtion inside a class\n",
    "\n",
    "class Car():\n",
    "    engin = \"4.7L\" #constant inside class\n",
    "    \n",
    "    def __init__(self, color, wheels):\n",
    "        self.color = color\n",
    "        self.wheels = wheels\n",
    "    \n",
    "mazda = Car(\"black\", 4)\n",
    "\n",
    "print(mazda.color)\n",
    "    "
   ]
  },
  {
   "cell_type": "markdown",
   "metadata": {},
   "source": [
    "##### The 'self' Attribute <br>\n",
    "<p>This attribute is required to keep track of specific instance's attributes. Without the self attribute, the program would not know how to reference or keep track of an instance's attributes.</p>"
   ]
  },
  {
   "cell_type": "code",
   "execution_count": null,
   "metadata": {},
   "outputs": [],
   "source": [
    "# see above\n",
    "\n"
   ]
  },
  {
   "cell_type": "markdown",
   "metadata": {},
   "source": [
    "## Class Attributes <br>\n",
    "<p>While variables are inside of a class, they are referred to as attributes and not variables. When someone says 'attribute' you know they're speaking about a class. Attributes can be initialized through the init method, or outside of it.</p>"
   ]
  },
  {
   "cell_type": "markdown",
   "metadata": {},
   "source": [
    "##### Initializing Attributes"
   ]
  },
  {
   "cell_type": "code",
   "execution_count": null,
   "metadata": {},
   "outputs": [],
   "source": [
    "# see above"
   ]
  },
  {
   "cell_type": "markdown",
   "metadata": {},
   "source": [
    "##### Accessing Class Attributes"
   ]
  },
  {
   "cell_type": "code",
   "execution_count": null,
   "metadata": {
    "scrolled": true
   },
   "outputs": [],
   "source": [
    "# See Above"
   ]
  },
  {
   "cell_type": "markdown",
   "metadata": {},
   "source": [
    "##### Setting Defaults for Attributes"
   ]
  },
  {
   "cell_type": "code",
   "execution_count": 8,
   "metadata": {},
   "outputs": [
    {
     "data": {
      "text/plain": [
       "4"
      ]
     },
     "execution_count": 8,
     "metadata": {},
     "output_type": "execute_result"
    }
   ],
   "source": [
    "class Car():\n",
    "    engin = '4.7L'\n",
    "    \n",
    "    def __init__(self, wheels):\n",
    "        self.wheels = wheels\n",
    "        self.color = 'Blue'\n",
    "        \n",
    "honda = Car(4)\n",
    "\n",
    "honda.color\n",
    "honda.wheels\n"
   ]
  },
  {
   "cell_type": "markdown",
   "metadata": {},
   "source": [
    "##### Changing Class Attributes <br>\n",
    "<p>Keep in mind there are global class attributes and then there are attributes only available to each class instance which won't effect other classes.</p>"
   ]
  },
  {
   "cell_type": "code",
   "execution_count": 11,
   "metadata": {},
   "outputs": [
    {
     "name": "stdout",
     "output_type": "stream",
     "text": [
      " before change Blue\n",
      " after change white\n"
     ]
    },
    {
     "data": {
      "text/plain": [
       "'Blue'"
      ]
     },
     "execution_count": 11,
     "metadata": {},
     "output_type": "execute_result"
    }
   ],
   "source": [
    "jeep = Car(8)\n",
    "\n",
    "print(f\" before change {jeep.color}\")\n",
    "\n",
    "jeep.color = 'white'\n",
    "\n",
    "print(f\" after change {jeep.color}\")\n",
    "\n",
    "honda.color"
   ]
  },
  {
   "cell_type": "code",
   "execution_count": null,
   "metadata": {},
   "outputs": [],
   "source": []
  },
  {
   "cell_type": "markdown",
   "metadata": {},
   "source": [
    "##### In-Class Exercise #2 - Add a doors and seats attribute to your 'Car' class then print out two different instances with different doors and seats"
   ]
  },
  {
   "cell_type": "code",
   "execution_count": 14,
   "metadata": {},
   "outputs": [
    {
     "name": "stdout",
     "output_type": "stream",
     "text": [
      "2\n",
      "2\n",
      "4\n",
      "3\n"
     ]
    }
   ],
   "source": [
    "class Car():\n",
    "    engin = \"4.7L\" #constant inside class\n",
    "    \n",
    "    def __init__(self, color, wheels = 3):\n",
    "        self.color = color\n",
    "        self.wheels = wheels\n",
    "        self.doors = 2\n",
    "        self.seats = 2\n",
    "\n",
    "ford = Car('blue', 4)\n",
    "nissan = Car('red')\n",
    "\n",
    "print(ford.doors)\n",
    "print(ford.seats)\n",
    "\n",
    "nissan.doors = 4\n",
    "nissan.seats = 3\n",
    "\n",
    "print(nissan.doors)\n",
    "print(nissan.seats)\n"
   ]
  },
  {
   "cell_type": "markdown",
   "metadata": {},
   "source": [
    "## Class Methods <br>\n",
    "<p>While inside of a class, functions are referred to as 'methods'. If you hear someone mention methods, they're speaking about classes. Methods are essentially functions, but only callable on the instances of a class.</p>"
   ]
  },
  {
   "cell_type": "markdown",
   "metadata": {},
   "source": [
    "##### Creating"
   ]
  },
  {
   "cell_type": "code",
   "execution_count": 6,
   "metadata": {},
   "outputs": [],
   "source": [
    "class ShoppingBag():\n",
    "    '''\n",
    "    The shopping bag class will have handles, capacity, and items\n",
    "    to place inside\n",
    "    \n",
    "    attributes for class:\n",
    "    - handles expected an intager\n",
    "    - capacity expected a string or intager\n",
    "    - items expected list\n",
    "    '''\n",
    "    \n",
    "    def __init__(self,handles, capacity, items):\n",
    "        self.handles = handles\n",
    "        self.capacity = capacity\n",
    "        self.items = items\n",
    "        \n",
    "    #write a method that shows the items in our shopping bag\n",
    "    \n",
    "    def showShoppingBag(self):\n",
    "        print(\"You have items in your bag!\")\n",
    "        if self.items != []:\n",
    "            for item in self.items:\n",
    "                print(item)\n",
    "        else:\n",
    "            print(\"Your cart is currently empty.\")\n",
    "    \n",
    "    # method to show remaining capacity\n",
    "    \n",
    "    def showCapacity(self):\n",
    "        print(f\"You have {self.capacity} left in your bag.\")\n",
    "        \n",
    "    # add items to list\n",
    "    \n",
    "    def addToShoppingBag(self):\n",
    "        product = input(\"What product would you like to add?\")\n",
    "        self.items.append(product)\n",
    "        \n",
    "    # method to remove item from list\n",
    "    \n",
    "    def removeFromBag(self):\n",
    "        removeing = input(\"What would you like to remove?\")\n",
    "        if removing in self.items:\n",
    "            self.items.remove(removing)\n",
    "        else:\n",
    "            print(f\"{removing} is not in your list. Try viewing your bag\")\n",
    "        \n",
    "    # change the capacity of the bag\n",
    "    \n",
    "    def changeCap(self, capacity):\n",
    "        self.capacity = capacity\n",
    "    \n",
    "    # increase capacity by default 10\n",
    "    \n",
    "    def addCap(self, add_capacity = 10):\n",
    "        if self.capacity == isinstance(self.capacity, str):\n",
    "            print(\"We can't add that here.\")\n",
    "        else:\n",
    "            self.capacity += add_capacity\n",
    "            \n",
    "    "
   ]
  },
  {
   "cell_type": "markdown",
   "metadata": {},
   "source": [
    "##### Calling"
   ]
  },
  {
   "cell_type": "code",
   "execution_count": 7,
   "metadata": {},
   "outputs": [
    {
     "name": "stdout",
     "output_type": "stream",
     "text": [
      "what would you like to do?\n",
      "Add\n",
      "Show\n",
      "Quit?\n",
      "add\n",
      "What product would you like to add?klj\n",
      "what would you like to do?\n",
      "Add\n",
      "Show\n",
      "Quit?\n",
      "add\n",
      "What product would you like to add?lkj\n",
      "what would you like to do?\n",
      "Add\n",
      "Show\n",
      "Quit?\n",
      "quit\n",
      "You have items in your bag!\n",
      "klj\n",
      "lkj\n",
      "thanks for shopping!\n"
     ]
    }
   ],
   "source": [
    "# See Above\n",
    "\n",
    "cart = ShoppingBag(2,10,[])\n",
    "\n",
    "#create funtion to run shoppingbag methods on cart\n",
    "\n",
    "def runCart():\n",
    "    while True:\n",
    "        response = input(\"what would you like to do?\\n\"\n",
    "                        \"Add\\n\"\n",
    "                        \"Show\\n\"\n",
    "                        \"Quit?\\n\")\n",
    "        if response.lower() == \"quit\":\n",
    "            cart.showShoppingBag()\n",
    "            print(\"thanks for shopping!\")\n",
    "            break\n",
    "        \n",
    "        elif response.lower() == \"show\":\n",
    "            cart.showShoppingBag()\n",
    "            \n",
    "        elif response.lower() == \"add\":\n",
    "            cart.addToShoppingBag()\n",
    "            \n",
    "        else:\n",
    "            print(\"Try another command\")\n",
    "            \n",
    "runCart()\n"
   ]
  },
  {
   "cell_type": "markdown",
   "metadata": {},
   "source": [
    "##### Modifying an Attribute's Value Through a Method"
   ]
  },
  {
   "cell_type": "code",
   "execution_count": 8,
   "metadata": {},
   "outputs": [
    {
     "name": "stdout",
     "output_type": "stream",
     "text": [
      "You have 10 left in your bag.\n",
      "capacity before change\n",
      "You have 40 left in your bag.\n",
      "capacity after change\n"
     ]
    }
   ],
   "source": [
    "cart.showCapacity()\n",
    "print(\"capacity before change\")\n",
    "\n",
    "cart.changeCap(40)\n",
    "\n",
    "cart.showCapacity()\n",
    "print(\"capacity after change\")\n"
   ]
  },
  {
   "cell_type": "markdown",
   "metadata": {},
   "source": [
    "##### Incrementing an Attribute's Value Through a Method"
   ]
  },
  {
   "cell_type": "code",
   "execution_count": 9,
   "metadata": {},
   "outputs": [
    {
     "name": "stdout",
     "output_type": "stream",
     "text": [
      "You have 40 left in your bag.\n",
      "after change is\n",
      "You have 50 left in your bag.\n"
     ]
    }
   ],
   "source": [
    "cart.showCapacity()\n",
    "print(\"after change is\")\n",
    "cart.addCap()\n",
    "cart.showCapacity()"
   ]
  },
  {
   "cell_type": "markdown",
   "metadata": {},
   "source": [
    "##### In-Class Exercise #3 - Add a method that takes in three parameters of year, doors and seats and prints out a formatted print statement with make, model, year, seats, and doors"
   ]
  },
  {
   "cell_type": "code",
   "execution_count": 11,
   "metadata": {},
   "outputs": [
    {
     "name": "stdout",
     "output_type": "stream",
     "text": [
      "This car is from 2019 and is a Ford Explorer and has 4 doors and 5 seats\n"
     ]
    }
   ],
   "source": [
    "# Create class with 2 paramters inside of the __init__ which are make and model\n",
    "class Car():\n",
    "    def __init__(self, make, model):\n",
    "        self.make = make\n",
    "        self.model = model\n",
    "             \n",
    "    def carSpecs(self, year, doors, seats):\n",
    "        self.year = year\n",
    "        self.doors = doors\n",
    "        self.seats = seats\n",
    "        \n",
    "    def printInfo(self):\n",
    "        print(f\"This car is from {self.year} and is a {self.make} {self.model} and has {self.doors} doors and {self.seats} seats\")\n",
    "              \n",
    "def run():\n",
    "    new_car = Car('Ford', 'Explorer')\n",
    "    new_car.carSpecs(2019, 4, 5)\n",
    "    new_car.printInfo()\n",
    "\n",
    "run()\n",
    "# Output: This car is from 2019 and is a Ford Expolorer and has 4 doors and 5 seats\n",
    "\n"
   ]
  },
  {
   "cell_type": "markdown",
   "metadata": {},
   "source": [
    "## Inheritance <br>\n",
    "<p>You can create a child-parent relationship between two classes by using inheritance. What this allows you to do is have overriding methods, but also inherit traits from the parent class. Think of it as an actual parent and child, the child will inherit the parent's genes, as will the classes in OOP</p>"
   ]
  },
  {
   "cell_type": "markdown",
   "metadata": {},
   "source": [
    "##### Syntax for Inheriting from a Parent Class"
   ]
  },
  {
   "cell_type": "code",
   "execution_count": 17,
   "metadata": {},
   "outputs": [
    {
     "name": "stdout",
     "output_type": "stream",
     "text": [
      "bark\n",
      "Make a generic sound\n",
      "None\n",
      "9.8\n"
     ]
    }
   ],
   "source": [
    "# create a perent class\n",
    "\n",
    "class Animal():\n",
    "    acceleration = 9.8\n",
    "    \n",
    "    def __init__(self, name, species, legs = 4):\n",
    "        self.name = name\n",
    "        self.species = species\n",
    "        self.legs = legs\n",
    "        \n",
    "    #generic parent method\n",
    "    \n",
    "    def makeSound(self):\n",
    "        print(\"Make a generic sound\")\n",
    "        \n",
    "# child class\n",
    "\n",
    "class Dog(Animal):\n",
    "    speed = 15\n",
    "    \n",
    "    def printInfo(self):\n",
    "        print(f\"the dog has {self.speed}mph is speed and {self.acceleration}\")\n",
    "        \n",
    "# sub-child class mut\n",
    "\n",
    "class Mut(Dog):\n",
    "    color =\"tan\"\n",
    "    \n",
    "    # overwrite animal class using Dog class to overwrite __init__ from animal\n",
    "    def __init__(self, name, species, eye_color, legs =4):\n",
    "        Dog.__init__(self, name, species, legs)\n",
    "        self.eye_color = eye_color\n",
    "        \n",
    "    #override sound from Animal\n",
    "    \n",
    "    def makeSound(self):\n",
    "        noise = 'bark'\n",
    "        return noise\n",
    "\n",
    "lassie = Dog('Lassie', \"Dog\")\n",
    "basic_animal = Animal('Generic animal', 'Generic species')\n",
    "buster = Mut('Buster', \"Mut\", 'Brown')\n",
    "\n",
    "print(buster.makeSound())\n",
    "print(lassie.makeSound())\n",
    "print(buster.acceleration)\n"
   ]
  },
  {
   "cell_type": "markdown",
   "metadata": {},
   "source": [
    "##### The \\__init\\__() Method for a Child Class - super()"
   ]
  },
  {
   "cell_type": "code",
   "execution_count": 18,
   "metadata": {
    "scrolled": true
   },
   "outputs": [
    {
     "name": "stdout",
     "output_type": "stream",
     "text": [
      "bark\n",
      "Make a generic sound\n",
      "None\n",
      "9.8\n"
     ]
    }
   ],
   "source": [
    "class Pup(Dog):\n",
    "    color = 'black & brown'\n",
    "    \n",
    "    #override Animal class __init__\n",
    "    \n",
    "    def __init__(self, name, species, eye_color, legs = 4):\n",
    "        super().__init__(name, species, legs)\n",
    "        self.eye_color = eye_color\n",
    "        \n",
    "    #override makeSound from Animal class\n",
    "    \n",
    "    def makeSound(self):\n",
    "        noise = 'Yip'\n",
    "        return noise\n",
    "    \n",
    "lassie = Dog('Lassie', \"Dog\")\n",
    "basic_animal = Animal('Generic animal', 'Generic species')\n",
    "buster = Mut('Buster', \"Mut\", 'Brown')\n",
    "\n",
    "print(buster.makeSound())\n",
    "print(lassie.makeSound())\n",
    "print(buster.acceleration)"
   ]
  },
  {
   "cell_type": "markdown",
   "metadata": {},
   "source": [
    "##### Defining Attributes and Methods for the Child Class"
   ]
  },
  {
   "cell_type": "code",
   "execution_count": null,
   "metadata": {},
   "outputs": [],
   "source": [
    "# See Above"
   ]
  },
  {
   "cell_type": "markdown",
   "metadata": {},
   "source": [
    "##### Method Overriding"
   ]
  },
  {
   "cell_type": "code",
   "execution_count": null,
   "metadata": {},
   "outputs": [],
   "source": [
    "# See Above"
   ]
  },
  {
   "cell_type": "markdown",
   "metadata": {},
   "source": [
    "## Classes as Attributes <br>\n",
    "<p>Classes can also be used as attributes within another class. This is useful in situations where you need to keep variables locally stored, instead of globally stored.</p>"
   ]
  },
  {
   "cell_type": "code",
   "execution_count": 22,
   "metadata": {},
   "outputs": [
    {
     "name": "stdout",
     "output_type": "stream",
     "text": [
      "20\n"
     ]
    },
    {
     "data": {
      "text/plain": [
       "'2019 tesla Model x 20'"
      ]
     },
     "execution_count": 22,
     "metadata": {},
     "output_type": "execute_result"
    }
   ],
   "source": [
    "class Battery():\n",
    "    volts = 7.5\n",
    "    \n",
    "    def __init__(self, cells):\n",
    "        self.cells = cells\n",
    "        \n",
    "class Car():\n",
    "    def __init__(self, year, make, model, battery):\n",
    "        self.year = year\n",
    "        self.make = make\n",
    "        self.model = model\n",
    "        self.battery = battery\n",
    "        \n",
    "    def printInfo(self):\n",
    "        return f\"{self.year} {self.make} {self.model} {self.battery.cells}\"\n",
    "        \n",
    "my_battery = Battery(20)\n",
    "\n",
    "tesla = Car(2019, 'tesla', 'Model x', my_battery)\n",
    "\n",
    "print(tesla.battery.cells)\n",
    "tesla.printInfo()"
   ]
  },
  {
   "cell_type": "markdown",
   "metadata": {},
   "source": [
    "# Exercises"
   ]
  },
  {
   "cell_type": "markdown",
   "metadata": {},
   "source": [
    "### Exercise 1 - Turn the shopping cart program from yesterday into an object-oriented program\n",
    "\n",
    "The comments in the cell below are there as a guide for thinking about the problem. However, if you feel a different way is best for you and your own thought process, please do what feels best for you by all means."
   ]
  },
  {
   "cell_type": "code",
   "execution_count": 2,
   "metadata": {},
   "outputs": [
    {
     "ename": "KeyboardInterrupt",
     "evalue": "Interrupted by user",
     "output_type": "error",
     "traceback": [
      "\u001b[1;31m---------------------------------------------------------------------------\u001b[0m",
      "\u001b[1;31mKeyboardInterrupt\u001b[0m                         Traceback (most recent call last)",
      "Cell \u001b[1;32mIn[2], line 102\u001b[0m\n\u001b[0;32m     99\u001b[0m         \u001b[38;5;28;01melse\u001b[39;00m:\n\u001b[0;32m    100\u001b[0m             \u001b[38;5;28mprint\u001b[39m(\u001b[38;5;124m\"\u001b[39m\u001b[38;5;124mTry another command\u001b[39m\u001b[38;5;124m\"\u001b[39m)\n\u001b[1;32m--> 102\u001b[0m Run()\n",
      "Cell \u001b[1;32mIn[2], line 88\u001b[0m, in \u001b[0;36mRun\u001b[1;34m()\u001b[0m\n\u001b[0;32m     85\u001b[0m     \u001b[38;5;28;01mbreak\u001b[39;00m\n\u001b[0;32m     87\u001b[0m \u001b[38;5;28;01melif\u001b[39;00m action\u001b[38;5;241m.\u001b[39mlower() \u001b[38;5;241m==\u001b[39m \u001b[38;5;124m\"\u001b[39m\u001b[38;5;124madd\u001b[39m\u001b[38;5;124m\"\u001b[39m:\n\u001b[1;32m---> 88\u001b[0m     cart\u001b[38;5;241m.\u001b[39maddToList()\n\u001b[0;32m     90\u001b[0m \u001b[38;5;28;01melif\u001b[39;00m action\u001b[38;5;241m.\u001b[39mlower() \u001b[38;5;241m==\u001b[39m \u001b[38;5;124m'\u001b[39m\u001b[38;5;124mdelete item\u001b[39m\u001b[38;5;124m'\u001b[39m:\n\u001b[0;32m     91\u001b[0m     cart\u001b[38;5;241m.\u001b[39mdeleteItem()\n",
      "Cell \u001b[1;32mIn[2], line 19\u001b[0m, in \u001b[0;36mGroceryList.addToList\u001b[1;34m(self)\u001b[0m\n\u001b[0;32m     17\u001b[0m \u001b[38;5;28;01mfor\u001b[39;00m i \u001b[38;5;129;01min\u001b[39;00m \u001b[38;5;28mself\u001b[39m\u001b[38;5;241m.\u001b[39mgroceries\u001b[38;5;241m.\u001b[39mkeys():\n\u001b[0;32m     18\u001b[0m     \u001b[38;5;28mprint\u001b[39m(i)\n\u001b[1;32m---> 19\u001b[0m catagory \u001b[38;5;241m=\u001b[39m \u001b[38;5;28minput\u001b[39m(\u001b[38;5;124m\"\u001b[39m\u001b[38;5;130;01m\\n\u001b[39;00m\u001b[38;5;124mPlease enter new catagory or choose one from list.\u001b[39m\u001b[38;5;130;01m\\n\u001b[39;00m\u001b[38;5;124m\"\u001b[39m)\n\u001b[0;32m     20\u001b[0m item \u001b[38;5;241m=\u001b[39m \u001b[38;5;28minput\u001b[39m(\u001b[38;5;124m\"\u001b[39m\u001b[38;5;124mEnter the item\u001b[39m\u001b[38;5;124m'\u001b[39m\u001b[38;5;124ms name\u001b[39m\u001b[38;5;130;01m\\n\u001b[39;00m\u001b[38;5;124m\"\u001b[39m)\n\u001b[0;32m     21\u001b[0m \u001b[38;5;28;01mif\u001b[39;00m catagory \u001b[38;5;129;01min\u001b[39;00m \u001b[38;5;28mself\u001b[39m\u001b[38;5;241m.\u001b[39mgroceries\u001b[38;5;241m.\u001b[39mkeys():\n",
      "File \u001b[1;32m~\\anaconda3\\Lib\\site-packages\\ipykernel\\kernelbase.py:1175\u001b[0m, in \u001b[0;36mKernel.raw_input\u001b[1;34m(self, prompt)\u001b[0m\n\u001b[0;32m   1171\u001b[0m \u001b[38;5;28;01mif\u001b[39;00m \u001b[38;5;129;01mnot\u001b[39;00m \u001b[38;5;28mself\u001b[39m\u001b[38;5;241m.\u001b[39m_allow_stdin:\n\u001b[0;32m   1172\u001b[0m     \u001b[38;5;28;01mraise\u001b[39;00m StdinNotImplementedError(\n\u001b[0;32m   1173\u001b[0m         \u001b[38;5;124m\"\u001b[39m\u001b[38;5;124mraw_input was called, but this frontend does not support input requests.\u001b[39m\u001b[38;5;124m\"\u001b[39m\n\u001b[0;32m   1174\u001b[0m     )\n\u001b[1;32m-> 1175\u001b[0m \u001b[38;5;28;01mreturn\u001b[39;00m \u001b[38;5;28mself\u001b[39m\u001b[38;5;241m.\u001b[39m_input_request(\n\u001b[0;32m   1176\u001b[0m     \u001b[38;5;28mstr\u001b[39m(prompt),\n\u001b[0;32m   1177\u001b[0m     \u001b[38;5;28mself\u001b[39m\u001b[38;5;241m.\u001b[39m_parent_ident[\u001b[38;5;124m\"\u001b[39m\u001b[38;5;124mshell\u001b[39m\u001b[38;5;124m\"\u001b[39m],\n\u001b[0;32m   1178\u001b[0m     \u001b[38;5;28mself\u001b[39m\u001b[38;5;241m.\u001b[39mget_parent(\u001b[38;5;124m\"\u001b[39m\u001b[38;5;124mshell\u001b[39m\u001b[38;5;124m\"\u001b[39m),\n\u001b[0;32m   1179\u001b[0m     password\u001b[38;5;241m=\u001b[39m\u001b[38;5;28;01mFalse\u001b[39;00m,\n\u001b[0;32m   1180\u001b[0m )\n",
      "File \u001b[1;32m~\\anaconda3\\Lib\\site-packages\\ipykernel\\kernelbase.py:1217\u001b[0m, in \u001b[0;36mKernel._input_request\u001b[1;34m(self, prompt, ident, parent, password)\u001b[0m\n\u001b[0;32m   1214\u001b[0m             \u001b[38;5;28;01mbreak\u001b[39;00m\n\u001b[0;32m   1215\u001b[0m \u001b[38;5;28;01mexcept\u001b[39;00m \u001b[38;5;167;01mKeyboardInterrupt\u001b[39;00m:\n\u001b[0;32m   1216\u001b[0m     \u001b[38;5;66;03m# re-raise KeyboardInterrupt, to truncate traceback\u001b[39;00m\n\u001b[1;32m-> 1217\u001b[0m     \u001b[38;5;28;01mraise\u001b[39;00m \u001b[38;5;167;01mKeyboardInterrupt\u001b[39;00m(\u001b[38;5;124m\"\u001b[39m\u001b[38;5;124mInterrupted by user\u001b[39m\u001b[38;5;124m\"\u001b[39m) \u001b[38;5;28;01mfrom\u001b[39;00m \u001b[38;5;28;01mNone\u001b[39;00m\n\u001b[0;32m   1218\u001b[0m \u001b[38;5;28;01mexcept\u001b[39;00m \u001b[38;5;167;01mException\u001b[39;00m:\n\u001b[0;32m   1219\u001b[0m     \u001b[38;5;28mself\u001b[39m\u001b[38;5;241m.\u001b[39mlog\u001b[38;5;241m.\u001b[39mwarning(\u001b[38;5;124m\"\u001b[39m\u001b[38;5;124mInvalid Message:\u001b[39m\u001b[38;5;124m\"\u001b[39m, exc_info\u001b[38;5;241m=\u001b[39m\u001b[38;5;28;01mTrue\u001b[39;00m)\n",
      "\u001b[1;31mKeyboardInterrupt\u001b[0m: Interrupted by user"
     ]
    }
   ],
   "source": [
    "from IPython.display import clear_output\n",
    "import sys,time\n",
    "\n",
    "def stype(text, delay_t = .02):\n",
    "    for char in text:\n",
    "        sys.stdout.write(char)\n",
    "        sys.stdout.flush()\n",
    "        time.sleep(delay_t)\n",
    "\n",
    "class GroceryList():\n",
    "\n",
    "    def __init__(self, groceries):\n",
    "        self.groceries = groceries\n",
    "\n",
    "    def addToList(self):\n",
    "        clear_output()\n",
    "        for i in self.groceries.keys():\n",
    "            print(i)\n",
    "        catagory = input(\"\\nPlease enter new catagory or choose one from list.\\n\")\n",
    "        item = input(\"Enter the item's name\\n\")\n",
    "        if catagory in self.groceries.keys():\n",
    "            self.groceries[catagory].append(item)\n",
    "        else:\n",
    "            self.groceries[catagory] = [item]\n",
    "\n",
    "    def deleteItem(self):\n",
    "        clear_output()\n",
    "        for i in self.groceries.keys():\n",
    "            print(i)\n",
    "        catagory = input(\"\\nPlease enter catagory from list.\\n\")\n",
    "        for j in self.groceries[catagory]:\n",
    "            print(j)\n",
    "        item = input(\"\\nEnter the item's name from list\\n\")\n",
    "\n",
    "        if catagory in self.groceries.keys():\n",
    "            if item in self.groceries[catagory]:\n",
    "                self.groceries[catagory].remove(item)\n",
    "                if self.groceries[catagory] == []:\n",
    "                    del self.groceries[catagory]\n",
    "            else:\n",
    "                print(f\"{item.title()} not found in list\")\n",
    "        else:\n",
    "            print(f\"{catagory.title()} catagory not found\")\n",
    "\n",
    "    def deleteCatagory(self):\n",
    "        clear_output()\n",
    "        print(self.groceries.keys())\n",
    "        catagory = input(\"Please choose catagory from list.\\n\")\n",
    "        stype(f\"Are you sure you want to delete catagory {catagory}?\\n\")\n",
    "        while True:\n",
    "            sure = input('Y/N ')\n",
    "            \n",
    "            if sure.lower() == 'n':\n",
    "                break\n",
    "            elif sure.lower() == 'y':\n",
    "                if catagory not in self.groceries.keys():\n",
    "                    print(f\"{catagory} not found in list\")\n",
    "                    break\n",
    "                else:\n",
    "                    del self.groceries[catagory]\n",
    "                    break\n",
    "\n",
    "    def printList(self):\n",
    "        clear_output()\n",
    "        for i in self.groceries.keys():\n",
    "            print(' ')\n",
    "            print(i.upper())\n",
    "            for j in self.groceries[i]:\n",
    "                print(j)\n",
    "\n",
    "cart = GroceryList({})\n",
    "\n",
    "def Run():\n",
    "    while True:\n",
    "\n",
    "        stype(\"What would you like to do?\\n\")\n",
    "        action = input('\"Add\" - Add item to list,\\n'\n",
    "                    '\"Delete item\" - Delete item from list,\\n'\n",
    "                    '\"Delete catagory\" - Delete catagory from list,\\n'\n",
    "                    '\"View\" - View your current grocery list,\\n'\n",
    "                    'or \"Quit\"\\n')\n",
    "\n",
    "        if action.lower() == 'quit':\n",
    "            cart.printList()\n",
    "            break\n",
    "\n",
    "        elif action.lower() == \"add\":\n",
    "            cart.addToList()\n",
    "\n",
    "        elif action.lower() == 'delete item':\n",
    "            cart.deleteItem()\n",
    "\n",
    "        elif action.lower() == 'delete catagory':\n",
    "            cart.deleteCatagory()\n",
    "\n",
    "        elif action.lower() == 'view':\n",
    "            cart.printList()\n",
    "\n",
    "        else:\n",
    "            print(\"Try another command\")\n",
    "\n",
    "Run()"
   ]
  },
  {
   "cell_type": "markdown",
   "metadata": {},
   "source": [
    "### Exercise 2 - Write a Python class which has two methods get_String and print_String. get_String accept a string from the user and print_String print the string in upper case"
   ]
  },
  {
   "cell_type": "code",
   "execution_count": 5,
   "metadata": {},
   "outputs": [
    {
     "name": "stdout",
     "output_type": "stream",
     "text": [
      "Type whatever you want!!loiuajhgrlisdufrghp;louisergh;larkiss;kj\n",
      "LOIUAJHGRLISDUFRGHP;LOUISERGH;LARKISS;KJ\n"
     ]
    }
   ],
   "source": [
    "class String():\n",
    "    def __init__(self, user_string = \" \"):\n",
    "        self.user_string = user_string\n",
    "    def get_string(self):\n",
    "        self.user_string = input(\"Type whatever you want!!\")\n",
    "        \n",
    "    def print_string(self):\n",
    "        print(self.user_string.upper())\n",
    "        \n",
    "user = String()\n",
    "        \n",
    "def Run():\n",
    "    user.get_string()\n",
    "    user.print_string()\n",
    "    \n",
    "Run()"
   ]
  },
  {
   "cell_type": "code",
   "execution_count": null,
   "metadata": {},
   "outputs": [],
   "source": []
  }
 ],
 "metadata": {
  "kernelspec": {
   "display_name": "Python 3 (ipykernel)",
   "language": "python",
   "name": "python3"
  },
  "language_info": {
   "codemirror_mode": {
    "name": "ipython",
    "version": 3
   },
   "file_extension": ".py",
   "mimetype": "text/x-python",
   "name": "python",
   "nbconvert_exporter": "python",
   "pygments_lexer": "ipython3",
   "version": "3.11.4"
  }
 },
 "nbformat": 4,
 "nbformat_minor": 2
}
